{
  "nbformat": 4,
  "nbformat_minor": 0,
  "metadata": {
    "colab": {
      "provenance": [],
      "authorship_tag": "ABX9TyMhuDfbGSijLoB+Djtwiaj+",
      "include_colab_link": true
    },
    "kernelspec": {
      "name": "python3",
      "display_name": "Python 3"
    },
    "language_info": {
      "name": "python"
    }
  },
  "cells": [
    {
      "cell_type": "markdown",
      "metadata": {
        "id": "view-in-github",
        "colab_type": "text"
      },
      "source": [
        "<a href=\"https://colab.research.google.com/github/shauryakolla/python101/blob/main/untitled3.ipynb\" target=\"_parent\"><img src=\"https://colab.research.google.com/assets/colab-badge.svg\" alt=\"Open In Colab\"/></a>"
      ]
    },
    {
      "cell_type": "code",
      "execution_count": null,
      "metadata": {
        "colab": {
          "base_uri": "https://localhost:8080/",
          "height": 356
        },
        "id": "fgN2qPnBQZfr",
        "outputId": "0f623776-3e5b-4ba6-f464-dbb4016e6407"
      },
      "outputs": [
        {
          "output_type": "error",
          "ename": "FileNotFoundError",
          "evalue": "ignored",
          "traceback": [
            "\u001b[0;31m---------------------------------------------------------------------------\u001b[0m",
            "\u001b[0;31mFileNotFoundError\u001b[0m                         Traceback (most recent call last)",
            "\u001b[0;32m<ipython-input-1-fc2db37093eb>\u001b[0m in \u001b[0;36m<module>\u001b[0;34m\u001b[0m\n\u001b[1;32m     68\u001b[0m \u001b[0;32mif\u001b[0m \u001b[0m__name__\u001b[0m \u001b[0;34m==\u001b[0m \u001b[0;34m'__main__'\u001b[0m\u001b[0;34m:\u001b[0m\u001b[0;34m\u001b[0m\u001b[0;34m\u001b[0m\u001b[0m\n\u001b[1;32m     69\u001b[0m     \u001b[0;31m# Call the display_unique_words function to display the unique words in a text file\u001b[0m\u001b[0;34m\u001b[0m\u001b[0;34m\u001b[0m\u001b[0;34m\u001b[0m\u001b[0m\n\u001b[0;32m---> 70\u001b[0;31m     \u001b[0mdisplay_unique_words\u001b[0m\u001b[0;34m(\u001b[0m\u001b[0;34m'file.txt'\u001b[0m\u001b[0;34m)\u001b[0m\u001b[0;34m\u001b[0m\u001b[0;34m\u001b[0m\u001b[0m\n\u001b[0m\u001b[1;32m     71\u001b[0m \u001b[0;34m\u001b[0m\u001b[0m\n\u001b[1;32m     72\u001b[0m     \u001b[0;31m# Call the count_word_frequency function to count the frequency of each word in a text file and display the frequency of each word in a new file\u001b[0m\u001b[0;34m\u001b[0m\u001b[0;34m\u001b[0m\u001b[0;34m\u001b[0m\u001b[0m\n",
            "\u001b[0;32m<ipython-input-1-fc2db37093eb>\u001b[0m in \u001b[0;36mdisplay_unique_words\u001b[0;34m(file_path)\u001b[0m\n\u001b[1;32m      2\u001b[0m \u001b[0;32mdef\u001b[0m \u001b[0mdisplay_unique_words\u001b[0m\u001b[0;34m(\u001b[0m\u001b[0mfile_path\u001b[0m\u001b[0;34m)\u001b[0m\u001b[0;34m:\u001b[0m\u001b[0;34m\u001b[0m\u001b[0;34m\u001b[0m\u001b[0m\n\u001b[1;32m      3\u001b[0m     \u001b[0;31m# Open the text file\u001b[0m\u001b[0;34m\u001b[0m\u001b[0;34m\u001b[0m\u001b[0;34m\u001b[0m\u001b[0m\n\u001b[0;32m----> 4\u001b[0;31m     \u001b[0;32mwith\u001b[0m \u001b[0mopen\u001b[0m\u001b[0;34m(\u001b[0m\u001b[0mfile_path\u001b[0m\u001b[0;34m,\u001b[0m \u001b[0;34m'r'\u001b[0m\u001b[0;34m)\u001b[0m \u001b[0;32mas\u001b[0m \u001b[0mf\u001b[0m\u001b[0;34m:\u001b[0m\u001b[0;34m\u001b[0m\u001b[0;34m\u001b[0m\u001b[0m\n\u001b[0m\u001b[1;32m      5\u001b[0m         \u001b[0;31m# Read the contents of the file\u001b[0m\u001b[0;34m\u001b[0m\u001b[0;34m\u001b[0m\u001b[0;34m\u001b[0m\u001b[0m\n\u001b[1;32m      6\u001b[0m         \u001b[0mcontents\u001b[0m \u001b[0;34m=\u001b[0m \u001b[0mf\u001b[0m\u001b[0;34m.\u001b[0m\u001b[0mread\u001b[0m\u001b[0;34m(\u001b[0m\u001b[0;34m)\u001b[0m\u001b[0;34m\u001b[0m\u001b[0;34m\u001b[0m\u001b[0m\n",
            "\u001b[0;31mFileNotFoundError\u001b[0m: [Errno 2] No such file or directory: 'file.txt'"
          ]
        }
      ],
      "source": [
        "# Function to display a list of all the unique words in a text file\n",
        "def display_unique_words(file_path):\n",
        "    # Open the text file\n",
        "    with open(file_path, 'r') as f:\n",
        "        # Read the contents of the file\n",
        "        contents = f.read()\n",
        "\n",
        "    # Split the contents of the file into words and create a set of unique words\n",
        "    words = set(contents.split())\n",
        "\n",
        "    # Print the set of unique words\n",
        "    print(words)\n",
        "\n",
        "# Function to count the frequency of each word in a text file and display the frequency of each word in a new file\n",
        "def count_word_frequency(input_file_path, output_file_path):\n",
        "    # Open the input text file\n",
        "    with open(input_file_path, 'r') as f:\n",
        "        # Read the contents of the file\n",
        "        contents = f.read()\n",
        "\n",
        "    # Split the contents of the file into words\n",
        "    words = contents.split()\n",
        "\n",
        "    # Create a dictionary to store the frequency of each word\n",
        "    freq_dict = {}\n",
        "\n",
        "    # Count the frequency of each word\n",
        "    for word in words:\n",
        "        if word in freq_dict:\n",
        "            freq_dict[word] += 1\n",
        "        else:\n",
        "            freq_dict[word] = 1\n",
        "\n",
        "    # Open the output text file\n",
        "    with open(output_file_path, 'w') as f:\n",
        "        # Write the frequency of each word to the file\n",
        "        for word, freq in freq_dict.items():\n",
        "            f.write(f'{word}: {freq}\\n')\n",
        "\n",
        "# Function to read the contents of two text files and print lists of words\n",
        "def compare_word_lists(file1_path, file2_path):\n",
        "    # Open the first text file\n",
        "    with open(file1_path, 'r') as f1:\n",
        "        # Read the contents of the file and create a set of unique words\n",
        "        words1 = set(f1.read().split())\n",
        "\n",
        "    # Open the second text file\n",
        "    with open(file2_path, 'r') as f2:\n",
        "        # Read the contents of the file and create a set of unique words\n",
        "        words2 = set(f2.read().split())\n",
        "\n",
        "    # Print the list of unique words in both files\n",
        "    print(words1.intersection(words2))\n",
        "\n",
        "    # Print the list of words that appear in both files\n",
        "    print(words1.union(words2))\n",
        "\n",
        "    # Print the list of words that appear in the first file but not the second\n",
        "    print(words1.difference(words2))\n",
        "\n",
        "    # Print the list of words that appear in the second file but not the first\n",
        "    print(words2.difference(words1))\n",
        "\n",
        "    # Print the list of words that appear in either the first or second file, but not both\n",
        "    print(words1.symmetric_difference(words2))\n",
        "\n",
        "# Main program\n",
        "if __name__ == '__main__':\n",
        "    # Call the display_unique_words function to display the unique words in a text file\n",
        "    display_unique_words('file.txt')\n",
        "\n",
        "    # Call the count_word_frequency function to count the frequency of each word in a text file and display the frequency of each word in a new file\n",
        "    count_word_frequency('input.txt', 'output.txt')\n",
        "\n",
        "    # Call the compare_word_lists function to compare the words in two text files\n",
        "    compare_word_lists('file1.txt', 'file2.txt')"
      ]
    },
    {
      "cell_type": "code",
      "source": [],
      "metadata": {
        "id": "d3K5IVhYQ435"
      },
      "execution_count": null,
      "outputs": []
    }
  ]
}