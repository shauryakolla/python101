{
  "nbformat": 4,
  "nbformat_minor": 0,
  "metadata": {
    "colab": {
      "provenance": [],
      "authorship_tag": "ABX9TyMpn8mDFA6i/pEGamyeC6R5",
      "include_colab_link": true
    },
    "kernelspec": {
      "name": "python3",
      "display_name": "Python 3"
    },
    "language_info": {
      "name": "python"
    }
  },
  "cells": [
    {
      "cell_type": "markdown",
      "metadata": {
        "id": "view-in-github",
        "colab_type": "text"
      },
      "source": [
        "<a href=\"https://colab.research.google.com/github/shauryakolla/python101/blob/main/Untitled0.ipynb\" target=\"_parent\"><img src=\"https://colab.research.google.com/assets/colab-badge.svg\" alt=\"Open In Colab\"/></a>"
      ]
    },
    {
      "cell_type": "code",
      "execution_count": 12,
      "metadata": {
        "colab": {
          "base_uri": "https://localhost:8080/",
          "height": 130
        },
        "id": "UDCfj3TVdr9s",
        "outputId": "e98f9c2a-2564-4f66-a08d-0fffda49bac5"
      },
      "outputs": [
        {
          "output_type": "error",
          "ename": "IndentationError",
          "evalue": "ignored",
          "traceback": [
            "\u001b[0;36m  File \u001b[0;32m\"<tokenize>\"\u001b[0;36m, line \u001b[0;32m8\u001b[0m\n\u001b[0;31m    @staticmethod\u001b[0m\n\u001b[0m    ^\u001b[0m\n\u001b[0;31mIndentationError\u001b[0m\u001b[0;31m:\u001b[0m unindent does not match any outer indentation level\n"
          ]
        }
      ],
      "source": [
        "   def main(args):\n",
        "\t\tnumber = 5196081888500646\n",
        "       \n",
        "\t\tprint(str(number) + \" is \" +\n",
        "\t\t\t(\"valid\" if CreditCard.isValid(number) else \"invalid\"))\n",
        "\t\t\n",
        "\t# Return true if the card number is valid\n",
        "\t@staticmethod\n",
        "\tdef isValid(number):\n",
        "\t\treturn (CreditCard.getSize(number) >= 13 and CreditCard.getSize(number) <= 16) and (CreditCard.prefixMatched(number, 4) or CreditCard.prefixMatched(number, 5) or CreditCard.prefixMatched(number, 37) or CreditCard.prefixMatched(number, 6)) and ((CreditCard.sumOfDoubleEvenPlace(number) + CreditCard.sumOfOddPlace(number)) % 10 == 0)\n",
        "\t\n",
        "\tdef isVisa(card_number):\n",
        "  # Visa cards start with a 4\n",
        "  return card_number[0] == '4'\n",
        "\n",
        "def isMastercard(card_number):\n",
        "  # Mastercard cards start with a range of numbers, from 51-55\n",
        "  return card_number[0] in ['5', '6'] and card_number[1] in ['1', '2', '3', '4', '5']\n",
        "\n",
        "def main(card_type, card_number):\n",
        "  # Check if card number is a valid number\n",
        "  if not card_number.isnumeric():\n",
        "    return \"Invalid card number: card number must contain only digits\"\n",
        "\n",
        "  # Check card type\n",
        "  if card_type.lower() == \"visa\":\n",
        "    if isVisa(card_number):\n",
        "      return \"Valid Visa card\"\n",
        "    else:\n",
        "      return \"Invalid Visa card\"\n",
        "  elif card_type.lower() == \"mastercard\":\n",
        "    if isMastercard(card_number):\n",
        "      return \"Valid Mastercard\"\n",
        "    else:\n",
        "      return \"Invalid Mastercard\"\n",
        "  else:\n",
        "    return \"Invalid card type\"\n",
        "\n",
        "\t# Get the result from Step 2\n",
        "\t@staticmethod\n",
        "\tdef sumOfDoubleEvenPlace(number):\n",
        "\t\tsum = 0\n",
        "\t\tnum = str(number) + \"\"\n",
        "\t\ti = CreditCard.getSize(number) - 2\n",
        "\t\twhile (i >= 0):\n",
        "\t\t\tsum += CreditCard.getDigit(int(str(num[i]) + \"\") * 2)\n",
        "\t\t\ti -= 2\n",
        "\t\treturn sum\n",
        "\t\n",
        "\t# Return this number if it is a single digit, otherwise,\n",
        "\t# return the sum of the two digits\n",
        "\t@staticmethod\n",
        "\tdef getDigit(number):\n",
        "\t\tif (number < 9):\n",
        "\t\t\treturn number\n",
        "\t\treturn int(number / 10) + number % 10\n",
        "\t\n",
        "\t# Return sum of odd-place digits in number\n",
        "\n",
        "\tdef sumOfOddPlace(number):\n",
        "\t\tsum = 0\n",
        "\t\tnum = str(number) + \"\"\n",
        "\t\ti = CreditCard.getSize(number) - 1\n",
        "\t\twhile (i >= 0):\n",
        "\t\t\tsum += int(str(num[i]) + \"\")\n",
        "\t\t\ti -= 2\n",
        "\t\treturn sum\n",
        "\t\n",
        "\t# Return true if the digit d is a prefix for number\n",
        "\t@staticmethod\n",
        "\tdef prefixMatched(number, d):\n",
        "\t\treturn CreditCard.getPrefix(number, CreditCard.getSize(d)) == d\n",
        "\t\n",
        "\t# Return the number of digits in d\n",
        "\t@staticmethod\n",
        "\tdef getSize(d):\n",
        "\t\tnum = str(d) + \"\"\n",
        "\t\treturn len(num)\n",
        "\t\n",
        "\t# Return the first k number of digits from\n",
        "\t# number. If the number of digits in number\n",
        "\t# is less than k, return number.\n",
        "\t@staticmethod\n",
        "\tdef getPrefix(number, k):\n",
        "\t\tif (CreditCard.getSize(number) > k):\n",
        "\t\t\tnum = str(number) + \"\"\n",
        "\t\t\treturn int(num[0:k])\n",
        "\t\treturn number\n",
        "\n",
        "if __name__ == \"__main__\":\n",
        "     CreditCard.main([])"
      ]
    },
    {
      "cell_type": "code",
      "source": [],
      "metadata": {
        "id": "tRKw-oJuduZk"
      },
      "execution_count": null,
      "outputs": []
    }
  ]
}