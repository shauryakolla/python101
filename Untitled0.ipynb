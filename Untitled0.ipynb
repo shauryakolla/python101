{
  "nbformat": 4,
  "nbformat_minor": 0,
  "metadata": {
    "colab": {
      "provenance": [],
      "authorship_tag": "ABX9TyM1f3rJrWHw+puEnN4ocyYZ",
      "include_colab_link": true
    },
    "kernelspec": {
      "name": "python3",
      "display_name": "Python 3"
    },
    "language_info": {
      "name": "python"
    }
  },
  "cells": [
    {
      "cell_type": "markdown",
      "metadata": {
        "id": "view-in-github",
        "colab_type": "text"
      },
      "source": [
        "<a href=\"https://colab.research.google.com/github/shauryakolla/python101/blob/main/Untitled0.ipynb\" target=\"_parent\"><img src=\"https://colab.research.google.com/assets/colab-badge.svg\" alt=\"Open In Colab\"/></a>"
      ]
    },
    {
      "cell_type": "code",
      "execution_count": null,
      "metadata": {
        "id": "qqkFSKhmNRJf"
      },
      "outputs": [],
      "source": [
        "# Write a program that lets the user enter the name of a team\n",
        "# and then displays the number of times that team had won the World Series\n",
        "# in the time period from 1903 to 2009\n",
        "\n",
        "# Open the file\n",
        "def main():\n",
        "    infile = open('WorldSeriesWinners.txt', 'r') # Open the file\n",
        "\n",
        "    winner = infile.readlines() # Read the contents of the file into the list\n",
        "\n",
        "    infile.close() # Always remember to close the file\n",
        "\n",
        "    team = input('Enter the name of a team: ') # Enter name of a baseball team\n",
        "\n",
        "    counter = 0 # If said team won a game, count how many times\n",
        "    for team in winner:\n",
        "            result = counter + 1\n",
        "\n",
        "    if result == 1: # Finally, print the results\n",
        "        print(\"The\", team, \"won the world series\", result, \"time between 1903 and 2009.\")\n",
        "    elif result > 1:\n",
        "        print(\"The\", team, \"won the world series\", result, \"times between 1903 and 2009.\")\n",
        "    else:\n",
        "        print(\"The\", team, \"never won the world series.\")\n",
        "\n",
        "main()"
      ]
    }
  ]
}