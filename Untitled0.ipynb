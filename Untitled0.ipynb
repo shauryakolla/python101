{
  "nbformat": 4,
  "nbformat_minor": 0,
  "metadata": {
    "colab": {
      "provenance": [],
      "authorship_tag": "ABX9TyMMuuwDvMm+1s7bq9BEXU6R",
      "include_colab_link": true
    },
    "kernelspec": {
      "name": "python3",
      "display_name": "Python 3"
    },
    "language_info": {
      "name": "python"
    }
  },
  "cells": [
    {
      "cell_type": "markdown",
      "metadata": {
        "id": "view-in-github",
        "colab_type": "text"
      },
      "source": [
        "<a href=\"https://colab.research.google.com/github/shauryakolla/python101/blob/main/Untitled0.ipynb\" target=\"_parent\"><img src=\"https://colab.research.google.com/assets/colab-badge.svg\" alt=\"Open In Colab\"/></a>"
      ]
    },
    {
      "cell_type": "code",
      "execution_count": null,
      "metadata": {
        "id": "F7LYBk7OOPAj"
      },
      "outputs": [],
      "source": [
        "# open the file for reading\n",
        "with open('goldilocks.txt', 'r') as file:\n",
        "    \n",
        "    # read the whole text using readlines() method\n",
        "    lines = file.readlines()\n",
        "    \n",
        "    # initialize variables for counting 'Papa' and 'Mama'\n",
        "    papa_count = 0\n",
        "    mama_count = 0\n",
        "    \n",
        "    # initialize variables for finding the longest and shortest lines\n",
        "    longest_line = \"\"\n",
        "    longest_line_count = 0\n",
        "    shortest_line = lines[0]\n",
        "    shortest_line_count = len(shortest_line)\n",
        "    \n",
        "    # traverse the list to figure out the answers\n",
        "    for line in lines:\n",
        "        \n",
        "        # count the occurrences of 'Papa' and 'Mama'\n",
        "        papa_count += line.count('Papa')\n",
        "        mama_count += line.count('Mama')\n",
        "        \n",
        "        # find the longest and shortest lines\n",
        "        line_count = len(line)\n",
        "        if line_count > longest_line_count:\n",
        "            longest_line = line\n",
        "            longest_line_count = line_count\n",
        "        elif line_count < shortest_line_count:\n",
        "            shortest_line = line\n",
        "            shortest_line_count = line_count\n",
        "    \n",
        "    # print the answers\n",
        "    print(\"Base Credit\")\n",
        "    print(\"1. Count of 'Papa':\", papa_count)\n",
        "    print(\"2. Count of 'Mama':\", mama_count)\n",
        "    \n",
        "    print(\"\\nExtra Credit:\")\n",
        "    print(\"3. Longest Line Count:\", longest_line_count)\n",
        "    print(\"   Longest Line:\", longest_line.strip())\n",
        "    print(\"4. Shortest Line Count:\", shortest_line_count)\n",
        "    print(\"   Shortest Line:\", shortest_line.strip()"
      ]
    }
  ]
}