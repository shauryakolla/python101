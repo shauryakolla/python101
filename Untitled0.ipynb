{
  "nbformat": 4,
  "nbformat_minor": 0,
  "metadata": {
    "colab": {
      "provenance": [],
      "authorship_tag": "ABX9TyOhPD9z+j1SZ8PLBfwXxPXO",
      "include_colab_link": true
    },
    "kernelspec": {
      "name": "python3",
      "display_name": "Python 3"
    },
    "language_info": {
      "name": "python"
    }
  },
  "cells": [
    {
      "cell_type": "markdown",
      "metadata": {
        "id": "view-in-github",
        "colab_type": "text"
      },
      "source": [
        "<a href=\"https://colab.research.google.com/github/shauryakolla/python101/blob/main/Untitled0.ipynb\" target=\"_parent\"><img src=\"https://colab.research.google.com/assets/colab-badge.svg\" alt=\"Open In Colab\"/></a>"
      ]
    },
    {
      "cell_type": "code",
      "execution_count": 3,
      "metadata": {
        "colab": {
          "base_uri": "https://localhost:8080/",
          "height": 130
        },
        "id": "UDCfj3TVdr9s",
        "outputId": "dab8942b-3ef1-43e0-d855-9fcbf6aaf36a"
      },
      "outputs": [
        {
          "output_type": "error",
          "ename": "IndentationError",
          "evalue": "ignored",
          "traceback": [
            "\u001b[0;36m  File \u001b[0;32m\"<ipython-input-3-dc5c627643f6>\"\u001b[0;36m, line \u001b[0;32m2\u001b[0m\n\u001b[0;31m    def main(args):\u001b[0m\n\u001b[0m    ^\u001b[0m\n\u001b[0;31mIndentationError\u001b[0m\u001b[0;31m:\u001b[0m unexpected indent\n"
          ]
        }
      ],
      "source": [
        "# Main Method\n",
        "\tdef main(args):\n",
        "\t\tnumber = 5196081888500646\n",
        "       \n",
        "\t\tprint(str(number) + \" is \" +\n",
        "\t\t\t(\"valid\" if CreditCard.isValid(number) else \"invalid\"))\n",
        "\t\t\n",
        "\t# Return true if the card number is valid\n",
        "\t@staticmethod\n",
        "\tdef isValid(number):\n",
        "\t\treturn (CreditCard.getSize(number) >= 13 and CreditCard.getSize(number) <= 16) and (CreditCard.prefixMatched(number, 4) or CreditCard.prefixMatched(number, 5) or CreditCard.prefixMatched(number, 37) or CreditCard.prefixMatched(number, 6)) and ((CreditCard.sumOfDoubleEvenPlace(number) + CreditCard.sumOfOddPlace(number)) % 10 == 0)\n",
        "\t\n",
        "\t# Get the result from Step 2\n",
        "\t@staticmethod\n",
        "\tdef sumOfDoubleEvenPlace(number):\n",
        "\t\tsum = 0\n",
        "\t\tnum = str(number) + \"\"\n",
        "\t\ti = CreditCard.getSize(number) - 2\n",
        "\t\twhile (i >= 0):\n",
        "\t\t\tsum += CreditCard.getDigit(int(str(num[i]) + \"\") * 2)\n",
        "\t\t\ti -= 2\n",
        "\t\treturn sum\n",
        "\t\n",
        "\t# Return this number if it is a single digit, otherwise,\n",
        "\t# return the sum of the two digits\n",
        "\t@staticmethod\n",
        "\tdef getDigit(number):\n",
        "\t\tif (number < 9):\n",
        "\t\t\treturn number\n",
        "\t\treturn int(number / 10) + number % 10\n",
        "\t\n",
        "\t# Return sum of odd-place digits in number\n",
        "\n",
        "\tdef sumOfOddPlace(number):\n",
        "\t\tsum = 0\n",
        "\t\tnum = str(number) + \"\"\n",
        "\t\ti = CreditCard.getSize(number) - 1\n",
        "\t\twhile (i >= 0):\n",
        "\t\t\tsum += int(str(num[i]) + \"\")\n",
        "\t\t\ti -= 2\n",
        "\t\treturn sum\n",
        "\t\n",
        "\t# Return true if the digit d is a prefix for number\n",
        "\t@staticmethod\n",
        "\tdef prefixMatched(number, d):\n",
        "\t\treturn CreditCard.getPrefix(number, CreditCard.getSize(d)) == d\n",
        "\t\n",
        "\t# Return the number of digits in d\n",
        "\t@staticmethod\n",
        "\tdef getSize(d):\n",
        "\t\tnum = str(d) + \"\"\n",
        "\t\treturn len(num)\n",
        "\t\n",
        "\t# Return the first k number of digits from\n",
        "\t# number. If the number of digits in number\n",
        "\t# is less than k, return number.\n",
        "\t@staticmethod\n",
        "\tdef getPrefix(number, k):\n",
        "\t\tif (CreditCard.getSize(number) > k):\n",
        "\t\t\tnum = str(number) + \"\"\n",
        "\t\t\treturn int(num[0:k])\n",
        "\t\treturn number\n",
        "\n",
        "if __name__ == \"__main__\":\n",
        "\tCreditCard.main([])"
      ]
    },
    {
      "cell_type": "code",
      "source": [],
      "metadata": {
        "id": "tRKw-oJuduZk"
      },
      "execution_count": null,
      "outputs": []
    }
  ]
}