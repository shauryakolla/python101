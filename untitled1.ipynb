{
  "nbformat": 4,
  "nbformat_minor": 0,
  "metadata": {
    "colab": {
      "provenance": [],
      "authorship_tag": "ABX9TyPQeYenNghTeh0pjQvcFN2X",
      "include_colab_link": true
    },
    "kernelspec": {
      "name": "python3",
      "display_name": "Python 3"
    },
    "language_info": {
      "name": "python"
    }
  },
  "cells": [
    {
      "cell_type": "markdown",
      "metadata": {
        "id": "view-in-github",
        "colab_type": "text"
      },
      "source": [
        "<a href=\"https://colab.research.google.com/github/shauryakolla/python101/blob/main/untitled1.ipynb\" target=\"_parent\"><img src=\"https://colab.research.google.com/assets/colab-badge.svg\" alt=\"Open In Colab\"/></a>"
      ]
    },
    {
      "cell_type": "code",
      "execution_count": 12,
      "metadata": {
        "id": "Hj3shNFkgUdb"
      },
      "outputs": [],
      "source": [
        "def is_credit(credit_card_number):\n",
        "  # Implement Luhn's algorithm to check if credit card number is valid\n",
        "  sum = 0\n",
        "  # Double every second digit from right to left\n",
        "  for i, digit in enumerate(reversed(credit_card_number)):\n",
        "    digit = int(digit)\n",
        "    if i % 2 == 1:\n",
        "      digit *= 2\n",
        "    # Add digits of products together\n",
        "    if digit > 9:\n",
        "      sum += digit % 10 + 1\n",
        "    else:\n",
        "      sum += digit\n",
        "  # Check if sum is a multiple of 10\n",
        "  return sum % 10 == 0\n",
        "\n",
        "def is_visa(credit_card_number):\n",
        "  # Check if credit card number passes additional Visa requirements\n",
        "  if not is_credit(credit_card_number):\n",
        "    return False\n",
        "  if len(credit_card_number) != 16:\n",
        "    return False\n",
        "  if credit_card_number[0] != '4':\n",
        "    return False\n",
        "  return True\n",
        "\n",
        "def is_mastercard(credit_card_number):\n",
        "  # Check if credit card number passes additional MasterCard requirements\n",
        "  if not is_credit(credit_card_number):\n",
        "    return False\n",
        "  if len(credit_card_number) != 16:\n",
        "    return False\n",
        "  # Check if credit card number starts with 51, 52, 53, 54, or 55\n",
        "  return credit_card_number[:2] in ('51', '52', '53', '54', '55')\n",
        "\n",
        "def main(card_type, credit_card_number):\n",
        "  if not credit_card_number.isnumeric():\n",
        "    return \"Invalid credit card number\"\n",
        "  card_type = card_type.lower()\n",
        "  if card_type == 'visa':\n",
        "    if is_visa(credit_card_number):\n",
        "      return \"Valid Visa credit card\"\n",
        "    else:\n",
        "      return \"Invalid Visa credit card\"\n",
        "  elif card_type == 'mastercard':\n",
        "    if is_mastercard(credit_card_number):\n",
        "      return \"Valid MasterCard credit card\"\n",
        "    else:\n",
        "      return \"Invalid MasterCard credit card\"\n",
        "  else:\n",
        "    return \"Invalid credit card type\""
      ]
    }
  ]
}