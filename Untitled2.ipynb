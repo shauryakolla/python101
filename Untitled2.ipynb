{
  "nbformat": 4,
  "nbformat_minor": 0,
  "metadata": {
    "colab": {
      "provenance": [],
      "toc_visible": true,
      "authorship_tag": "ABX9TyNWPNNuGiraTXcTt9hH/XZE",
      "include_colab_link": true
    },
    "kernelspec": {
      "name": "python3",
      "display_name": "Python 3"
    },
    "language_info": {
      "name": "python"
    }
  },
  "cells": [
    {
      "cell_type": "markdown",
      "metadata": {
        "id": "view-in-github",
        "colab_type": "text"
      },
      "source": [
        "<a href=\"https://colab.research.google.com/github/shauryakolla/python101/blob/main/Untitled2.ipynb\" target=\"_parent\"><img src=\"https://colab.research.google.com/assets/colab-badge.svg\" alt=\"Open In Colab\"/></a>"
      ]
    },
    {
      "cell_type": "code",
      "execution_count": null,
      "metadata": {
        "id": "BkwgNelSM6tB",
        "outputId": "65fbcfb0-65d6-4e37-e386-942bc36e3685",
        "colab": {
          "base_uri": "https://localhost:8080/"
        }
      },
      "outputs": [
        {
          "output_type": "stream",
          "name": "stdout",
          "text": [
            "Given the following was entered from the keyboard\n",
            "555-GET-FOOD:\n",
            "555-438-3663\n"
          ]
        }
      ],
      "source": [
        "\n",
        "print(\"Given the following was entered from the keyboard\"\n",
        "\n",
        "\n",
        "                \"\\n555-GET-FOOD:\\n555-438-3663\")\n",
        "\n",
        "\n",
        "phoneNum = input()\n",
        "\n",
        "\n",
        "newPhoneNumber = \"\"\n",
        "\n",
        "\n",
        "for char in phoneNum:\n",
        "\n",
        "\n",
        "   if char == 'A' or char == 'B' or char == 'C':\n",
        "\n",
        "\n",
        "       char = '2'\n",
        "\n",
        "\n",
        "   elif char == 'D' or char == 'E' or char == 'F':\n",
        "\n",
        "\n",
        "       char = '3'\n",
        "\n",
        "\n",
        "   elif char == 'G' or char == 'H' or char == 'I':\n",
        "\n",
        "\n",
        "       char = '4'\n",
        "\n",
        "\n",
        "   elif char == 'J' or char == 'K' or char == 'L':\n",
        "\n",
        "\n",
        "       char = '5'\n",
        "\n",
        "\n",
        "   elif char == 'M' or char == 'N' or char == 'O':\n",
        "\n",
        "\n",
        "       char = '6'\n",
        "\n",
        "\n",
        "   elif char == 'P' or char == 'Q' or char == 'R' or char == 'S':\n",
        "\n",
        "\n",
        "       char = '7'\n",
        "\n",
        "\n",
        "   elif char == 'T' or char == 'U' or char == 'V':\n",
        "\n",
        "\n",
        "       char = '8'\n",
        "\n",
        "\n",
        "   elif char == 'W' or char == 'X' or char == 'Y' or char == 'Z':\n",
        "\n",
        "\n",
        "       char = '9'\n",
        "\n",
        "\n",
        "       \n",
        "\n",
        "\n",
        "   newPhoneNumber = newPhoneNumber + char\n",
        "\n",
        "\n",
        "print(newPhoneNumber)"
      ]
    }
  ]
}